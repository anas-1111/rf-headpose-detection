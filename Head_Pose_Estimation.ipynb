{
  "nbformat": 4,
  "nbformat_minor": 0,
  "metadata": {
    "colab": {
      "provenance": [],
      "gpuType": "T4",
      "authorship_tag": "ABX9TyPBDPTsWmR2wrsyI1h0yTcE",
      "include_colab_link": true
    },
    "kernelspec": {
      "name": "python3",
      "display_name": "Python 3"
    },
    "language_info": {
      "name": "python"
    },
    "accelerator": "GPU"
  },
  "cells": [
    {
      "cell_type": "markdown",
      "metadata": {
        "id": "view-in-github",
        "colab_type": "text"
      },
      "source": [
        "<a href=\"https://colab.research.google.com/github/anas-1111/rf-headpose-detection/blob/main/Head_Pose_Estimation.ipynb\" target=\"_parent\"><img src=\"https://colab.research.google.com/assets/colab-badge.svg\" alt=\"Open In Colab\"/></a>"
      ]
    },
    {
      "cell_type": "code",
      "source": [
        "# Install required libraries\n",
        "# !pip install mediapipe opencv-python kaggle\n"
      ],
      "metadata": {
        "collapsed": true,
        "id": "ASyMBjpPTM8M"
      },
      "execution_count": null,
      "outputs": []
    },
    {
      "cell_type": "code",
      "execution_count": null,
      "metadata": {
        "collapsed": true,
        "id": "5NnXCeubNAsu"
      },
      "outputs": [],
      "source": [
        "\n",
        "# Import libraries\n",
        "import numpy as np\n",
        "import cv2\n",
        "import math\n",
        "import glob\n",
        "import random\n",
        "import scipy.io as sio\n",
        "from math import cos, sin\n",
        "from pathlib import Path\n",
        "import pandas as pd\n",
        "import warnings\n",
        "from matplotlib import pyplot as plt\n",
        "from sklearn.model_selection import train_test_split\n",
        "from sklearn.multioutput import MultiOutputRegressor\n",
        "from sklearn.svm import SVR\n",
        "from sklearn.metrics import mean_squared_error, r2_score\n",
        "import pickle\n",
        "from google.colab import files\n",
        "import requests\n",
        "from io import BytesIO\n",
        "import mediapipe as mp\n",
        "import zipfile\n",
        "import kagglehub\n",
        "import os\n",
        "from sklearn.feature_selection import SelectKBest, f_regression\n",
        "from sklearn.model_selection import train_test_split\n",
        "from sklearn.ensemble import RandomForestRegressor\n",
        "import matplotlib.pyplot as plt\n",
        "\n",
        "warnings.filterwarnings('ignore')\n",
        "mp_drawing = mp.solutions.drawing_utils\n",
        "face_module = mp.solutions.face_mesh"
      ]
    },
    {
      "cell_type": "code",
      "source": [
        "def draw_axis(img, pitch, yaw, roll, tdx=None, tdy=None, size=100):\n",
        "    yaw = -yaw\n",
        "    if tdx is not None and tdy is not None:\n",
        "        tdx = tdx\n",
        "        tdy = tdy\n",
        "    else:\n",
        "        height, width = img.shape[:2]\n",
        "        tdx = width / 2\n",
        "        tdy = height / 2\n",
        "\n",
        "    x1 = size * (cos(yaw) * cos(roll)) + tdx\n",
        "    y1 = size * (cos(pitch) * sin(roll) + cos(roll) * sin(pitch) * sin(yaw)) + tdy\n",
        "    x2 = size * (-cos(yaw) * sin(roll)) + tdx\n",
        "    y2 = size * (cos(pitch) * cos(roll) - sin(pitch) * sin(yaw) * sin(roll)) + tdy\n",
        "    x3 = size * (sin(yaw)) + tdx\n",
        "    y3 = size * (-cos(yaw) * sin(pitch)) + tdy\n",
        "\n",
        "    cv2.line(img, (int(tdx), int(tdy)), (int(x1), int(y1)), (0, 0, 255), 3)\n",
        "    cv2.line(img, (int(tdx), int(tdy)), (int(x2), int(y2)), (0, 255, 0), 3)\n",
        "    cv2.line(img, (int(tdx), int(tdy)), (int(x3), int(y3)), (255, 0, 0), 2)\n",
        "    return img"
      ],
      "metadata": {
        "id": "Fzi3HAMjNNX6"
      },
      "execution_count": null,
      "outputs": []
    },
    {
      "cell_type": "code",
      "source": [
        "def map_to_pi(angle):\n",
        "    return (angle + np.pi) % (2 * np.pi) - np.pi"
      ],
      "metadata": {
        "id": "u4FhLABVNyqY"
      },
      "execution_count": null,
      "outputs": []
    },
    {
      "cell_type": "code",
      "source": [
        "def preprocess(face, width=450, height=450):\n",
        "    x_val = [lm.x * width for lm in face.landmark]\n",
        "    y_val = [lm.y * height for lm in face.landmark]\n",
        "    x_val = np.array(x_val) - np.mean(x_val[1])\n",
        "    y_val = np.array(y_val) - np.mean(y_val[1])\n",
        "    x_val = x_val / x_val.max() if x_val.max() != 0 else x_val\n",
        "    y_val = y_val / y_val.max() if y_val.max() != 0 else y_val\n",
        "    return np.concatenate([x_val, y_val])"
      ],
      "metadata": {
        "id": "gvmVH4rtN05H"
      },
      "execution_count": null,
      "outputs": []
    },
    {
      "cell_type": "code",
      "source": [
        "dataset_path = kagglehub.dataset_download('mohamedadlyi/aflw2000-3d')\n",
        "print(f\"Dataset downloaded to: {dataset_path}\")"
      ],
      "metadata": {
        "colab": {
          "base_uri": "https://localhost:8080/"
        },
        "id": "KGPZEDRZN4wg",
        "outputId": "87de5fd9-9b2f-4096-b6a5-626b24d55536"
      },
      "execution_count": null,
      "outputs": [
        {
          "output_type": "stream",
          "name": "stdout",
          "text": [
            "Using Colab cache for faster access to the 'aflw2000-3d' dataset.\n",
            "Dataset downloaded to: /kaggle/input/aflw2000-3d\n"
          ]
        }
      ]
    },
    {
      "cell_type": "code",
      "source": [
        "mat_dir = \"aflw2000-3d/AFLW2000\""
      ],
      "metadata": {
        "id": "LQVn-S5XORPN"
      },
      "execution_count": null,
      "outputs": []
    },
    {
      "cell_type": "code",
      "source": [
        "if os.path.isdir(dataset_path):\n",
        "    extracted_path = os.path.join(dataset_path, \"AFLW2000\")\n",
        "    if os.path.exists(extracted_path):\n",
        "        mat_dir = extracted_path\n",
        "        print(f\"Dataset already extracted and found at: {mat_dir}\")\n",
        "    else:\n",
        "        print(f\"AFLW2000 directory not found within {dataset_path}. Please check the dataset structure.\")\n",
        "        zip_files = glob.glob(os.path.join(dataset_path, '*.zip'))\n",
        "        if zip_files:\n",
        "            zip_path = zip_files[0]\n",
        "            print(f\"Found zip file within the downloaded directory: {zip_path}. Extracting...\")\n",
        "            with zipfile.ZipFile(zip_path, 'r') as zip_ref:\n",
        "                zip_ref.extractall(\"aflw2000-3d\")\n",
        "            if os.path.exists(mat_dir):\n",
        "                print(f\"Dataset extracted to: {mat_dir}\")\n",
        "            else:\n",
        "                print(\"Extraction failed or AFLW2000 not in expected location after extraction.\")\n",
        "                raise FileNotFoundError(\"Dataset not found or extracted correctly.\")\n",
        "        else:\n",
        "             raise FileNotFoundError(f\"Dataset not found or extracted correctly. No zip found in {dataset_path}\")\n",
        "\n",
        "elif os.path.isfile(dataset_path) and dataset_path.endswith('.zip'):\n",
        "    print(f\"Dataset is a zip file. Extracting to {mat_dir}...\")\n",
        "    with zipfile.ZipFile(dataset_path, 'r') as zip_ref:\n",
        "        zip_ref.extractall(\"aflw2000-3d\")\n",
        "    if os.path.exists(mat_dir):\n",
        "        print(f\"Dataset extracted to: {mat_dir}\")\n",
        "    else:\n",
        "        print(\"Extraction failed or AFLW2000 not in expected location after extraction.\")\n",
        "        raise FileNotFoundError(\"Dataset not found or extracted correctly.\")\n",
        "else:\n",
        "    raise FileNotFoundError(f\"Downloaded dataset path is not a directory or a zip file: {dataset_path}\")\n"
      ],
      "metadata": {
        "colab": {
          "base_uri": "https://localhost:8080/"
        },
        "id": "4GFNrW3pOb5k",
        "outputId": "8236f9e6-07ff-4b41-e032-b0a981060dfa"
      },
      "execution_count": null,
      "outputs": [
        {
          "output_type": "stream",
          "name": "stdout",
          "text": [
            "Dataset already extracted and found at: /kaggle/input/aflw2000-3d/AFLW2000\n"
          ]
        }
      ]
    },
    {
      "cell_type": "code",
      "source": [
        "if os.path.isdir(dataset_path):\n",
        "    extracted_path = os.path.join(dataset_path, \"AFLW2000\")\n",
        "    if os.path.exists(extracted_path):\n",
        "        mat_dir = extracted_path\n",
        "        print(f\"Dataset already extracted and found at: {mat_dir}\")\n",
        "    else:\n",
        "        print(f\"AFLW2000 directory not found within {dataset_path}. Please check the dataset structure.\")\n",
        "        zip_files = glob.glob(os.path.join(dataset_path, '*.zip'))\n",
        "        if zip_files:\n",
        "            zip_path = zip_files[0]\n",
        "            print(f\"Found zip file within the downloaded directory: {zip_path}. Extracting...\")\n",
        "            with zipfile.ZipFile(zip_path, 'r') as zip_ref:\n",
        "                zip_ref.extractall(\"aflw2000-3d\")\n",
        "            if os.path.exists(mat_dir):\n",
        "                print(f\"Dataset extracted to: {mat_dir}\")\n",
        "            else:\n",
        "                print(\"Extraction failed or AFLW2000 not in expected location after extraction.\")\n",
        "                raise FileNotFoundError(\"Dataset not found or extracted correctly.\")\n",
        "        else:\n",
        "             raise FileNotFoundError(f\"Dataset not found or extracted correctly. No zip found in {dataset_path}\")\n",
        "\n",
        "elif os.path.isfile(dataset_path) and dataset_path.endswith('.zip'):\n",
        "    print(f\"Dataset is a zip file. Extracting to {mat_dir}...\")\n",
        "    with zipfile.ZipFile(dataset_path, 'r') as zip_ref:\n",
        "        zip_ref.extractall(\"aflw2000-3d\")\n",
        "    if os.path.exists(mat_dir):\n",
        "        print(f\"Dataset extracted to: {mat_dir}\")\n",
        "    else:\n",
        "        print(\"Extraction failed or AFLW2000 not in expected location after extraction.\")\n",
        "        raise FileNotFoundError(\"Dataset not found or extracted correctly.\")\n",
        "else:\n",
        "    raise FileNotFoundError(f\"Downloaded dataset path is not a directory or a zip file: {dataset_path}\")\n"
      ],
      "metadata": {
        "colab": {
          "base_uri": "https://localhost:8080/"
        },
        "id": "mt_i7L03OqLJ",
        "outputId": "cf923ca0-52d1-45c3-edf9-7de2cce56edf"
      },
      "execution_count": null,
      "outputs": [
        {
          "output_type": "stream",
          "name": "stdout",
          "text": [
            "Dataset already extracted and found at: /kaggle/input/aflw2000-3d/AFLW2000\n"
          ]
        }
      ]
    },
    {
      "cell_type": "code",
      "source": [
        "pose_data = []\n",
        "landmarks_data = []\n",
        "\n",
        "with face_module.FaceMesh(static_image_mode=True, max_num_faces=1) as face_mesh:\n",
        "    for fname in os.listdir(mat_dir):\n",
        "        if fname.endswith('.mat'):\n",
        "            image_id = fname.replace('.mat', '')\n",
        "            mat_path = os.path.join(mat_dir, fname)\n",
        "            img_path = os.path.join(mat_dir, image_id + '.jpg')\n",
        "\n",
        "            if not os.path.exists(img_path):\n",
        "                continue\n",
        "\n",
        "            mat = sio.loadmat(mat_path)\n",
        "            pose = mat[\"Pose_Para\"][0][:3]\n",
        "            pitch, yaw, roll = map_to_pi(pose[0]), map_to_pi(pose[1]), map_to_pi(pose[2])\n",
        "            pose_data.append([image_id, pitch, yaw, roll])\n",
        "\n",
        "            image = cv2.imread(img_path)\n",
        "            if image is None:\n",
        "                continue\n",
        "            rgb_image = cv2.cvtColor(image, cv2.COLOR_BGR2RGB)\n",
        "            results = face_mesh.process(rgb_image)\n",
        "\n",
        "            if results.multi_face_landmarks:\n",
        "                face_landmarks = results.multi_face_landmarks[0]\n",
        "                landmarks = preprocess(face_landmarks, image.shape[1], image.shape[0])\n",
        "                landmarks_data.append([image_id, landmarks])\n"
      ],
      "metadata": {
        "id": "8XGJdXPAPCjO"
      },
      "execution_count": null,
      "outputs": []
    },
    {
      "cell_type": "code",
      "source": [
        "df = pd.DataFrame(pose_data, columns=[\"image_id\", \"pitch\", \"yaw\", \"roll\"])\n",
        "landmarks_df = pd.DataFrame(landmarks_data, columns=[\"image_id\", \"marks_values\"])\n",
        "final_df = pd.merge(df, landmarks_df, on=\"image_id\", how=\"inner\")"
      ],
      "metadata": {
        "id": "kNL__AbvOzps"
      },
      "execution_count": null,
      "outputs": []
    },
    {
      "cell_type": "code",
      "source": [
        "X = np.array(final_df['marks_values'].to_list())\n",
        "y = np.array(final_df[['pitch', 'yaw', 'roll']])\n",
        "print(f\"X shape: {X.shape}, y shape: {y.shape}\")"
      ],
      "metadata": {
        "colab": {
          "base_uri": "https://localhost:8080/"
        },
        "id": "v1SnVofLPP2Z",
        "outputId": "1f41120b-79a6-4ba7-9e12-c569dd72db99"
      },
      "execution_count": null,
      "outputs": [
        {
          "output_type": "stream",
          "name": "stdout",
          "text": [
            "X shape: (1853, 936), y shape: (1853, 3)\n"
          ]
        }
      ]
    },
    {
      "cell_type": "code",
      "source": [
        "X_train, X_test, y_train, y_test, train_indices, test_indices = train_test_split(X, y, range(len(X)), test_size=0.2, random_state=42)\n",
        "\n",
        "print(f\"Data split successfully.\")\n",
        "print(f\"X_train shape: {X_train.shape}, X_test shape: {X_test.shape}\")\n",
        "print(f\"y_train shape: {y_train.shape}, y_test shape: {y_test.shape}\")\n",
        "print(f\"train_indices length: {len(train_indices)}, test_indices length: {len(test_indices)}\")"
      ],
      "metadata": {
        "colab": {
          "base_uri": "https://localhost:8080/"
        },
        "id": "LFr178JPPTPC",
        "outputId": "afa35c2e-a90d-4be5-8770-5b9e5b131127"
      },
      "execution_count": null,
      "outputs": [
        {
          "output_type": "stream",
          "name": "stdout",
          "text": [
            "Data split successfully.\n",
            "X_train shape: (1482, 936), X_test shape: (371, 936)\n",
            "y_train shape: (1482, 3), y_test shape: (371, 3)\n",
            "train_indices length: 1482, test_indices length: 371\n"
          ]
        }
      ]
    },
    {
      "cell_type": "code",
      "source": [
        "# Select top 10 features for pitch\n",
        "selector_pitch = SelectKBest(score_func=f_regression, k=10)\n",
        "selector_pitch.fit(X_train, y_train[:, 0])\n",
        "pitch_features_indices = selector_pitch.get_support(indices=True)\n",
        "print(f\"Top 10 feature indices for Pitch: {pitch_features_indices}\")\n",
        "\n",
        "# Select top 10 features for yaw\n",
        "selector_yaw = SelectKBest(score_func=f_regression, k=10)\n",
        "selector_yaw.fit(X_train, y_train[:, 1])\n",
        "yaw_features_indices = selector_yaw.get_support(indices=True)\n",
        "print(f\"Top 10 feature indices for Yaw: {yaw_features_indices}\")\n",
        "\n",
        "# Select top 10 features for roll\n",
        "selector_roll = SelectKBest(score_func=f_regression, k=10)\n",
        "selector_roll.fit(X_train, y_train[:, 2])\n",
        "roll_features_indices = selector_roll.get_support(indices=True)\n",
        "print(f\"Top 10 feature indices for Roll: {roll_features_indices}\")"
      ],
      "metadata": {
        "colab": {
          "base_uri": "https://localhost:8080/"
        },
        "id": "egLyzRm1Po0-",
        "outputId": "ab4f116d-a093-469a-a6ac-a168ef2b9151"
      },
      "execution_count": null,
      "outputs": [
        {
          "output_type": "stream",
          "name": "stdout",
          "text": [
            "Top 10 feature indices for Pitch: [819 825 880 881 882 885 921 931 932 933]\n",
            "Top 10 feature indices for Yaw: [ 83  84  85 148 171 181 201 208 274 275]\n",
            "Top 10 feature indices for Roll: [512 705 742 884 895 898 900 902 904 925]\n"
          ]
        }
      ]
    },
    {
      "cell_type": "code",
      "source": [
        "# Create pitch datasets with selected features\n",
        "X_train_pitch = X_train[:, pitch_features_indices]\n",
        "X_test_pitch = X_test[:, pitch_features_indices]\n",
        "y_train_pitch = y_train[:, 0]\n",
        "y_test_pitch = y_test[:, 0]\n",
        "\n",
        "# Create yaw datasets with selected features\n",
        "X_train_yaw = X_train[:, yaw_features_indices]\n",
        "X_test_yaw = X_test[:, yaw_features_indices]\n",
        "y_train_yaw = y_train[:, 1]\n",
        "y_test_yaw = y_test[:, 1]\n",
        "\n",
        "# Create roll datasets with selected features\n",
        "X_train_roll = X_train[:, roll_features_indices]\n",
        "X_test_roll = X_test[:, roll_features_indices]\n",
        "y_train_roll = y_train[:, 2]\n",
        "y_test_roll = y_test[:, 2]\n",
        "\n",
        "print(f\"Pitch datasets shape: X_train_pitch {X_train_pitch.shape}, X_test_pitch {X_test_pitch.shape}, y_train_pitch {y_train_pitch.shape}, y_test_pitch {y_test_pitch.shape}\")\n",
        "print(f\"Yaw datasets shape: X_train_yaw {X_train_yaw.shape}, X_test_yaw {X_test_yaw.shape}, y_train_yaw {y_train_yaw.shape}, y_test_yaw {y_test_yaw.shape}\")\n",
        "print(f\"Roll datasets shape: X_train_roll {X_train_roll.shape}, X_test_roll {X_test_roll.shape}, y_train_roll {y_train_roll.shape}, y_test_roll {y_test_roll.shape}\")"
      ],
      "metadata": {
        "colab": {
          "base_uri": "https://localhost:8080/"
        },
        "id": "Gv1kEbdfP1bp",
        "outputId": "81b20337-1a03-4c7a-981b-406ecb061878"
      },
      "execution_count": null,
      "outputs": [
        {
          "output_type": "stream",
          "name": "stdout",
          "text": [
            "Pitch datasets shape: X_train_pitch (1482, 10), X_test_pitch (371, 10), y_train_pitch (1482,), y_test_pitch (371,)\n",
            "Yaw datasets shape: X_train_yaw (1482, 10), X_test_yaw (371, 10), y_train_yaw (1482,), y_test_yaw (371,)\n",
            "Roll datasets shape: X_train_roll (1482, 10), X_test_roll (371, 10), y_train_roll (1482,), y_test_roll (371,)\n"
          ]
        }
      ]
    },
    {
      "cell_type": "code",
      "source": [
        "# Instantiate and train the Random Forest model for pitch\n",
        "rf_pitch = RandomForestRegressor(random_state=42)\n",
        "rf_pitch.fit(X_train_pitch, y_train_pitch)\n",
        "\n",
        "# Instantiate and train the Random Forest model for yaw\n",
        "rf_yaw = RandomForestRegressor(random_state=42)\n",
        "rf_yaw.fit(X_train_yaw, y_train_yaw)\n",
        "\n",
        "# Instantiate and train the Random Forest model for roll\n",
        "rf_roll = RandomForestRegressor(random_state=42)\n",
        "rf_roll.fit(X_train_roll, y_train_roll)\n",
        "\n",
        "print(\"Random Forest models trained successfully for Pitch, Yaw, and Roll.\")"
      ],
      "metadata": {
        "colab": {
          "base_uri": "https://localhost:8080/"
        },
        "id": "eAMTkd7rQBmg",
        "outputId": "0981e8d3-fc89-4714-c0e8-bb2aec2ab156"
      },
      "execution_count": null,
      "outputs": [
        {
          "output_type": "stream",
          "name": "stdout",
          "text": [
            "Random Forest models trained successfully for Pitch, Yaw, and Roll.\n"
          ]
        }
      ]
    },
    {
      "cell_type": "code",
      "source": [
        "# Predict the pitch angles using the trained rf_pitch model\n",
        "pitch_predictions = rf_pitch.predict(X_test_pitch)\n",
        "\n",
        "# Calculate the MSE and R² score for the pitch predictions\n",
        "mse_pitch = mean_squared_error(y_test_pitch, pitch_predictions)\n",
        "r2_pitch = r2_score(y_test_pitch, pitch_predictions)\n",
        "\n",
        "# Predict the yaw angles using the trained rf_yaw model\n",
        "yaw_predictions = rf_yaw.predict(X_test_yaw)\n",
        "\n",
        "# Calculate the MSE and R² score for the yaw predictions\n",
        "mse_yaw = mean_squared_error(y_test_yaw, yaw_predictions)\n",
        "r2_yaw = r2_score(y_test_yaw, yaw_predictions)\n",
        "\n",
        "# Predict the roll angles using the trained rf_roll model\n",
        "roll_predictions = rf_roll.predict(X_test_roll)\n",
        "\n",
        "# Calculate the MSE and R² score for the roll predictions\n",
        "mse_roll = mean_squared_error(y_test_roll, roll_predictions)\n",
        "r2_roll = r2_score(y_test_roll, roll_predictions)\n",
        "\n",
        "# Print the calculated MSE and R² scores for each angle\n",
        "print(f'Pitch - Mean Squared Error: {mse_pitch:.4f}, R² Score: {r2_pitch:.4f}')\n",
        "print(f'Yaw - Mean Squared Error: {mse_yaw:.4f}, R² Score: {r2_yaw:.4f}')\n",
        "print(f'Roll - Mean Squared Error: {mse_roll:.4f}, R² Score: {r2_roll:.4f}')"
      ],
      "metadata": {
        "colab": {
          "base_uri": "https://localhost:8080/"
        },
        "id": "4_h5QlNvQQEE",
        "outputId": "05ee3525-d85a-4f29-e60c-15930a11ab1f"
      },
      "execution_count": null,
      "outputs": [
        {
          "output_type": "stream",
          "name": "stdout",
          "text": [
            "Pitch - Mean Squared Error: 0.0746, R² Score: 0.3793\n",
            "Yaw - Mean Squared Error: 0.0554, R² Score: 0.8418\n",
            "Roll - Mean Squared Error: 0.0936, R² Score: 0.2925\n"
          ]
        }
      ]
    },
    {
      "cell_type": "code",
      "source": [
        "# Ensure mat_dir is defined\n",
        "if 'mat_dir' not in locals():\n",
        "    print(\"Error: mat_dir not defined. Please run the data download and extraction steps.\")\n",
        "    # Exit or handle the error appropriately\n",
        "    raise\n",
        "\n",
        "# Ensure the models are trained\n",
        "if 'rf_pitch' not in locals() or 'rf_yaw' not in locals() or 'rf_roll' not in locals():\n",
        "    print(\"Error: Random Forest models not trained. Please train the models first.\")\n",
        "    raise\n",
        "\n",
        "# Ensure feature indices are determined\n",
        "if 'pitch_features_indices' not in locals() or 'yaw_features_indices' not in locals() or 'roll_features_indices' not in locals():\n",
        "     print(\"Error: Feature indices not determined. Please run the feature selection step first.\")\n",
        "     raise\n",
        "\n",
        "# Select a random index from the test set indices (obtained in a previous step)\n",
        "if 'test_indices' not in locals():\n",
        "     print(\"Error: test_indices not found. Please ensure the train_test_split was run and test_indices are available.\")\n",
        "     raise\n",
        "\n",
        "random_test_index_original = random.choice(test_indices)\n",
        "\n",
        "# Get the corresponding image_id and actual angles from the original final_df\n",
        "random_image_id = final_df.loc[random_test_index_original, 'image_id']\n",
        "actual_pitch = final_df.loc[random_test_index_original, 'pitch']\n",
        "actual_yaw = final_df.loc[random_test_index_original, 'yaw']\n",
        "actual_roll = final_df.loc[random_test_index_original, 'roll']\n",
        "actual_angles = [actual_pitch, actual_yaw, actual_roll]\n",
        "\n",
        "# Construct the image path\n",
        "image_path = os.path.join(mat_dir, random_image_id + '.jpg')\n",
        "\n",
        "# Load and process the image\n",
        "image = cv2.imread(image_path)\n",
        "if image is None:\n",
        "    print(f\"Error: Could not load image from {image_path}\")\n",
        "else:\n",
        "    rgb_image = cv2.cvtColor(image, cv2.COLOR_BGR2RGB)\n",
        "    with face_module.FaceMesh(static_image_mode=True, max_num_faces=1) as face_mesh:\n",
        "        results = face_mesh.process(rgb_image)\n",
        "\n",
        "    if results.multi_face_landmarks:\n",
        "        face = results.multi_face_landmarks[0]\n",
        "        # Use the preprocess function defined earlier\n",
        "        marks = preprocess(face, rgb_image.shape[1], rgb_image.shape[0])\n",
        "\n",
        "        # Extract the top 10 features for each angle\n",
        "        marks_pitch = marks[pitch_features_indices].reshape(1, -1)\n",
        "        marks_yaw = marks[yaw_features_indices].reshape(1, -1)\n",
        "        marks_roll = marks[roll_features_indices].reshape(1, -1)\n",
        "\n",
        "        # Make predictions using the trained models\n",
        "        pred_pitch = rf_pitch.predict(marks_pitch)[0]\n",
        "        pred_yaw = rf_yaw.predict(marks_yaw)[0]\n",
        "        pred_roll = rf_roll.predict(marks_roll)[0]\n",
        "\n",
        "        center = face.landmark[1] # Assuming landmark 1 is near the nose/center of the face\n",
        "        tdx, tdy = int(center.x * rgb_image.shape[1]), int(center.y * rgb_image.shape[0])\n",
        "\n",
        "        # Use the draw_axis function defined earlier\n",
        "        img_with_pred = draw_axis(rgb_image.copy(), pred_pitch, pred_yaw, pred_roll, tdx, tdy)\n",
        "\n",
        "        # Display the image with predicted pose and actual pose information\n",
        "        plt.figure(figsize=(8, 8))\n",
        "        plt.imshow(img_with_pred)\n",
        "        plt.title(f'Image: {random_image_id}\\nActual Angles: Pitch={actual_pitch:.2f}, Yaw={actual_yaw:.2f}, Roll={actual_roll:.2f}\\nPredicted Angles: Pitch={pred_pitch:.2f}, Yaw={pred_yaw:.2f}, Roll={pred_roll:.2f}')\n",
        "        plt.axis('off')\n",
        "        plt.show()\n",
        "    else:\n",
        "        print(f\"No face detected in image: {image_path}\")"
      ],
      "metadata": {
        "colab": {
          "base_uri": "https://localhost:8080/",
          "height": 716
        },
        "id": "19UFx7KqQWv0",
        "outputId": "c9057b96-b1f5-4f39-d1e6-ffc13e6a9183"
      },
      "execution_count": null,
      "outputs": [
        {
          "output_type": "display_data",
          "data": {
            "text/plain": [
              "<Figure size 800x800 with 1 Axes>"
            ],
            "image/png": "[encoded data removed]"
          },
          "metadata": {}
        }
      ]
    },
    {
      "cell_type": "code",
      "metadata": {
        "colab": {
          "base_uri": "https://localhost:8080/",
          "height": 91
        },
        "id": "8182790c",
        "outputId": "acbf4500-bcd6-45c3-bbb3-22154c85b2c4"
      },
      "source": [
        "uploaded_files = files.upload()\n",
        "\n",
        "if len(uploaded_files) == 0:\n",
        "    print(\"No file was uploaded.\")\n",
        "else:\n",
        "    video_filename = list(uploaded_files.keys())[0]\n",
        "    print(f\"Uploaded file: {video_filename}\")"
      ],
      "execution_count": null,
      "outputs": [
        {
          "output_type": "display_data",
          "data": {
            "text/plain": [
              "<IPython.core.display.HTML object>"
            ],
            "text/html": [
              "\n",
              "     <input type=\"file\" id=\"files-4f3e4579-e0f4-4184-b79d-6640492ac257\" name=\"files[]\" multiple disabled\n",
              "        style=\"border:none\" />\n",
              "     <output id=\"result-4f3e4579-e0f4-4184-b79d-6640492ac257\">\n",
              "      Upload widget is only available when the cell has been executed in the\n",
              "      current browser session. Please rerun this cell to enable.\n",
              "      </output>\n",
              "      <script>// Copyright 2017 Google LLC\n",
              "//\n",
              "// Licensed under the Apache License, Version 2.0 (the \"License\");\n",
              "// you may not use this file except in compliance with the License.\n",
              "// You may obtain a copy of the License at\n",
              "//\n",
              "//      http://www.apache.org/licenses/LICENSE-2.0\n",
              "//\n",
              "// Unless required by applicable law or agreed to in writing, software\n",
              "// distributed under the License is distributed on an \"AS IS\" BASIS,\n",
              "// WITHOUT WARRANTIES OR CONDITIONS OF ANY KIND, either express or implied.\n",
              "// See the License for the specific language governing permissions and\n",
              "// limitations under the License.\n",
              "\n",
              "/**\n",
              " * @fileoverview Helpers for google.colab Python module.\n",
              " */\n",
              "(function(scope) {\n",
              "function span(text, styleAttributes = {}) {\n",
              "  const element = document.createElement('span');\n",
              "  element.textContent = text;\n",
              "  for (const key of Object.keys(styleAttributes)) {\n",
              "    element.style[key] = styleAttributes[key];\n",
              "  }\n",
              "  return element;\n",
              "}\n",
              "\n",
              "// Max number of bytes which will be uploaded at a time.\n",
              "const MAX_PAYLOAD_SIZE = 100 * 1024;\n",
              "\n",
              "function _uploadFiles(inputId, outputId) {\n",
              "  const steps = uploadFilesStep(inputId, outputId);\n",
              "  const outputElement = document.getElementById(outputId);\n",
              "  // Cache steps on the outputElement to make it available for the next call\n",
              "  // to uploadFilesContinue from Python.\n",
              "  outputElement.steps = steps;\n",
              "\n",
              "  return _uploadFilesContinue(outputId);\n",
              "}\n",
              "\n",
              "// This is roughly an async generator (not supported in the browser yet),\n",
              "// where there are multiple asynchronous steps and the Python side is going\n",
              "// to poll for completion of each step.\n",
              "// This uses a Promise to block the python side on completion of each step,\n",
              "// then passes the result of the previous step as the input to the next step.\n",
              "function _uploadFilesContinue(outputId) {\n",
              "  const outputElement = document.getElementById(outputId);\n",
              "  const steps = outputElement.steps;\n",
              "\n",
              "  const next = steps.next(outputElement.lastPromiseValue);\n",
              "  return Promise.resolve(next.value.promise).then((value) => {\n",
              "    // Cache the last promise value to make it available to the next\n",
              "    // step of the generator.\n",
              "    outputElement.lastPromiseValue = value;\n",
              "    return next.value.response;\n",
              "  });\n",
              "}\n",
              "\n",
              "/**\n",
              " * Generator function which is called between each async step of the upload\n",
              " * process.\n",
              " * @param {string} inputId Element ID of the input file picker element.\n",
              " * @param {string} outputId Element ID of the output display.\n",
              " * @return {!Iterable<!Object>} Iterable of next steps.\n",
              " */\n",
              "function* uploadFilesStep(inputId, outputId) {\n",
              "  const inputElement = document.getElementById(inputId);\n",
              "  inputElement.disabled = false;\n",
              "\n",
              "  const outputElement = document.getElementById(outputId);\n",
              "  outputElement.innerHTML = '';\n",
              "\n",
              "  const pickedPromise = new Promise((resolve) => {\n",
              "    inputElement.addEventListener('change', (e) => {\n",
              "      resolve(e.target.files);\n",
              "    });\n",
              "  });\n",
              "\n",
              "  const cancel = document.createElement('button');\n",
              "  inputElement.parentElement.appendChild(cancel);\n",
              "  cancel.textContent = 'Cancel upload';\n",
              "  const cancelPromise = new Promise((resolve) => {\n",
              "    cancel.onclick = () => {\n",
              "      resolve(null);\n",
              "    };\n",
              "  });\n",
              "\n",
              "  // Wait for the user to pick the files.\n",
              "  const files = yield {\n",
              "    promise: Promise.race([pickedPromise, cancelPromise]),\n",
              "    response: {\n",
              "      action: 'starting',\n",
              "    }\n",
              "  };\n",
              "\n",
              "  cancel.remove();\n",
              "\n",
              "  // Disable the input element since further picks are not allowed.\n",
              "  inputElement.disabled = true;\n",
              "\n",
              "  if (!files) {\n",
              "    return {\n",
              "      response: {\n",
              "        action: 'complete',\n",
              "      }\n",
              "    };\n",
              "  }\n",
              "\n",
              "  for (const file of files) {\n",
              "    const li = document.createElement('li');\n",
              "    li.append(span(file.name, {fontWeight: 'bold'}));\n",
              "    li.append(span(\n",
              "        `(${file.type || 'n/a'}) - ${file.size} bytes, ` +\n",
              "        `last modified: ${\n",
              "            file.lastModifiedDate ? file.lastModifiedDate.toLocaleDateString() :\n",
              "                                    'n/a'} - `));\n",
              "    const percent = span('0% done');\n",
              "    li.appendChild(percent);\n",
              "\n",
              "    outputElement.appendChild(li);\n",
              "\n",
              "    const fileDataPromise = new Promise((resolve) => {\n",
              "      const reader = new FileReader();\n",
              "      reader.onload = (e) => {\n",
              "        resolve(e.target.result);\n",
              "      };\n",
              "      reader.readAsArrayBuffer(file);\n",
              "    });\n",
              "    // Wait for the data to be ready.\n",
              "    let fileData = yield {\n",
              "      promise: fileDataPromise,\n",
              "      response: {\n",
              "        action: 'continue',\n",
              "      }\n",
              "    };\n",
              "\n",
              "    // Use a chunked sending to avoid message size limits. See b/62115660.\n",
              "    let position = 0;\n",
              "    do {\n",
              "      const length = Math.min(fileData.byteLength - position, MAX_PAYLOAD_SIZE);\n",
              "      const chunk = new Uint8Array(fileData, position, length);\n",
              "      position += length;\n",
              "\n",
              "      const base64 = btoa(String.fromCharCode.apply(null, chunk));\n",
              "      yield {\n",
              "        response: {\n",
              "          action: 'append',\n",
              "          file: file.name,\n",
              "          data: base64,\n",
              "        },\n",
              "      };\n",
              "\n",
              "      let percentDone = fileData.byteLength === 0 ?\n",
              "          100 :\n",
              "          Math.round((position / fileData.byteLength) * 100);\n",
              "      percent.textContent = `${percentDone}% done`;\n",
              "\n",
              "    } while (position < fileData.byteLength);\n",
              "  }\n",
              "\n",
              "  // All done.\n",
              "  yield {\n",
              "    response: {\n",
              "      action: 'complete',\n",
              "    }\n",
              "  };\n",
              "}\n",
              "\n",
              "scope.google = scope.google || {};\n",
              "scope.google.colab = scope.google.colab || {};\n",
              "scope.google.colab._files = {\n",
              "  _uploadFiles,\n",
              "  _uploadFilesContinue,\n",
              "};\n",
              "})(self);\n",
              "</script> "
            ]
          },
          "metadata": {}
        },
        {
          "output_type": "stream",
          "name": "stdout",
          "text": [
            "Saving WhatsApp Video 2025-09-15 at 12.35.37_e71a8cf3.mp4 to WhatsApp Video 2025-09-15 at 12.35.37_e71a8cf3.mp4\n",
            "Uploaded file: WhatsApp Video 2025-09-15 at 12.35.37_e71a8cf3.mp4\n"
          ]
        }
      ]
    },
    {
      "cell_type": "code",
      "metadata": {
        "colab": {
          "base_uri": "https://localhost:8080/"
        },
        "id": "bbcb2054",
        "outputId": "880e4c1d-c381-4050-9c15-31791e6b22f6"
      },
      "source": [
        "cap = cv2.VideoCapture(video_filename)\n",
        "\n",
        "if not cap.isOpened():\n",
        "    print(f\"Error: Could not open video file {video_filename}\")\n",
        "else:\n",
        "    frames = []\n",
        "    while cap.isOpened():\n",
        "        ret, frame = cap.read()\n",
        "        if ret:\n",
        "            frames.append(frame)\n",
        "        else:\n",
        "            break\n",
        "\n",
        "    cap.release()\n",
        "    print(f\"Read {len(frames)} frames from the video.\")"
      ],
      "execution_count": null,
      "outputs": [
        {
          "output_type": "stream",
          "name": "stdout",
          "text": [
            "Read 285 frames from the video.\n"
          ]
        }
      ]
    },
    {
      "cell_type": "code",
      "metadata": {
        "colab": {
          "base_uri": "https://localhost:8080/"
        },
        "id": "9d6831f4",
        "outputId": "770e32b2-c3de-441d-d97b-4c4dfa83cc89"
      },
      "source": [
        "face_mesh = face_module.FaceMesh(static_image_mode=True, max_num_faces=1)\n",
        "frame_landmarks_results = []\n",
        "\n",
        "for frame in frames:\n",
        "    rgb_frame = cv2.cvtColor(frame, cv2.COLOR_BGR2RGB)\n",
        "    results = face_mesh.process(rgb_frame)\n",
        "    frame_landmarks_results.append(results)\n",
        "\n",
        "print(f\"Processed {len(frame_landmarks_results)} frames for face landmarks.\")"
      ],
      "execution_count": null,
      "outputs": [
        {
          "output_type": "stream",
          "name": "stdout",
          "text": [
            "Processed 285 frames for face landmarks.\n"
          ]
        }
      ]
    },
    {
      "cell_type": "code",
      "metadata": {
        "colab": {
          "base_uri": "https://localhost:8080/"
        },
        "id": "7sfanGlSRd7s",
        "outputId": "401da914-42da-409b-af18-0812c056814d"
      },
      "source": [
        "processed_landmarks_video = []\n",
        "\n",
        "for results in frame_landmarks_results:\n",
        "    if results.multi_face_landmarks:\n",
        "        face = results.multi_face_landmarks[0]\n",
        "\n",
        "        image_height, image_width, _ = frames[0].shape\n",
        "        marks = preprocess(face, image_width, image_height)\n",
        "\n",
        "        marks_pitch = marks[pitch_features_indices]\n",
        "        marks_yaw = marks[yaw_features_indices]\n",
        "        marks_roll = marks[roll_features_indices]\n",
        "\n",
        "        combined_features = np.concatenate([marks_pitch, marks_yaw, marks_roll])\n",
        "        processed_landmarks_video.append(combined_features)\n",
        "    else:\n",
        "        processed_landmarks_video.append(None)\n",
        "\n",
        "print(f\"Processed {len(processed_landmarks_video)} frames for feature extraction.\")\n",
        "if processed_landmarks_video:\n",
        "    first_valid_features = next((item for item in processed_landmarks_video if item is not None), None)\n",
        "    if first_valid_features is not None:\n",
        "        print(f\"Shape of the first valid feature vector: {first_valid_features.shape}\")\n",
        "    else:\n",
        "        print(\"No valid face landmarks were detected in any frame.\")\n"
      ],
      "execution_count": null,
      "outputs": [
        {
          "output_type": "stream",
          "name": "stdout",
          "text": [
            "Processed 285 frames for feature extraction.\n",
            "Shape of the first valid feature vector: (30,)\n"
          ]
        }
      ]
    },
    {
      "cell_type": "code",
      "metadata": {
        "colab": {
          "base_uri": "https://localhost:8080/"
        },
        "id": "42742175",
        "outputId": "d16af5d1-2319-4c5b-b142-362bd2cf7ba6"
      },
      "source": [
        "predicted_poses_video = []\n",
        "\n",
        "for features in processed_landmarks_video:\n",
        "    if features is not None:\n",
        "        marks_pitch = features[:10].reshape(1, -1)\n",
        "        marks_yaw = features[10:20].reshape(1, -1)\n",
        "        marks_roll = features[20:].reshape(1, -1)\n",
        "\n",
        "        pred_pitch = rf_pitch.predict(marks_pitch)[0]\n",
        "        pred_yaw = rf_yaw.predict(marks_yaw)[0]\n",
        "        pred_roll = rf_roll.predict(marks_roll)[0]\n",
        "\n",
        "        predicted_poses_video.append([pred_pitch, pred_yaw, pred_roll])\n",
        "    else:\n",
        "        predicted_poses_video.append(None)\n",
        "\n",
        "valid_predictions_count = sum(1 for item in predicted_poses_video if item is not None)\n",
        "print(f\"Number of frames with predicted poses: {valid_predictions_count}\")"
      ],
      "execution_count": null,
      "outputs": [
        {
          "output_type": "stream",
          "name": "stdout",
          "text": [
            "Number of frames with predicted poses: 263\n"
          ]
        }
      ]
    },
    {
      "cell_type": "code",
      "metadata": {
        "colab": {
          "base_uri": "https://localhost:8080/"
        },
        "id": "f348b2fa",
        "outputId": "5f51e6e7-d1e6-4f5d-8c9d-a8ee6a9c8d15"
      },
      "source": [
        "output_frames = []\n",
        "\n",
        "for i, (frame, predicted_pose) in enumerate(zip(frames, predicted_poses_video)):\n",
        "    if predicted_pose is not None:\n",
        "        rgb_frame = cv2.cvtColor(frame, cv2.COLOR_BGR2RGB)\n",
        "\n",
        "        pred_pitch, pred_yaw, pred_roll = predicted_pose\n",
        "\n",
        "        face_results = frame_landmarks_results[i]\n",
        "        if face_results.multi_face_landmarks:\n",
        "            face = face_results.multi_face_landmarks[0]\n",
        "            center = face.landmark[1]\n",
        "            tdx, tdy = int(center.x * rgb_frame.shape[1]), int(center.y * rgb_frame.shape[0])\n",
        "\n",
        "            img_with_pred = draw_axis(rgb_frame.copy(), pred_pitch, pred_yaw, pred_roll, tdx, tdy)\n",
        "            output_frames.append(img_with_pred)\n",
        "        else:\n",
        "            output_frames.append(frame.copy())\n",
        "    else:\n",
        "        output_frames.append(frame.copy())\n",
        "\n",
        "visualized_frames_count = sum(1 for i, predicted_pose in enumerate(predicted_poses_video) if predicted_pose is not None and frame_landmarks_results[i].multi_face_landmarks)\n",
        "\n",
        "print(f\"Number of frames with visualizations: {visualized_frames_count}\")"
      ],
      "execution_count": null,
      "outputs": [
        {
          "output_type": "stream",
          "name": "stdout",
          "text": [
            "Number of frames with visualizations: 263\n"
          ]
        }
      ]
    },
    {
      "cell_type": "code",
      "metadata": {
        "colab": {
          "base_uri": "https://localhost:8080/",
          "height": 54
        },
        "id": "31a165c2",
        "outputId": "fd8325d2-5730-4dd3-9248-6cfcdd35345b"
      },
      "source": [
        "output_video_filename = \"output_pose_video.mp4\"\n",
        "\n",
        "cap_props = cv2.VideoCapture(video_filename)\n",
        "if not cap_props.isOpened():\n",
        "    print(f\"Error: Could not open video file {video_filename} to get properties.\")\n",
        "    frame_width = output_frames[0].shape[1] if output_frames else 640\n",
        "    frame_height = output_frames[0].shape[0] if output_frames else 480\n",
        "    fps = 30\n",
        "else:\n",
        "    frame_width = int(cap_props.get(cv2.CAP_PROP_FRAME_WIDTH))\n",
        "    frame_height = int(cap_props.get(cv2.CAP_PROP_FRAME_HEIGHT))\n",
        "    fps = int(cap_props.get(cv2.CAP_PROP_FPS))\n",
        "    cap_props.release()\n",
        "\n",
        "print(f\"Original video properties: Width={frame_width}, Height={frame_height}, FPS={fps}\")\n",
        "\n",
        "fourcc = cv2.VideoWriter_fourcc(*'XVID')\n",
        "out = cv2.VideoWriter(output_video_filename, fourcc, fps, (frame_width, frame_height))\n",
        "\n",
        "for frame in output_frames:\n",
        "\n",
        "    if len(frame.shape) == 3 and frame.shape[2] == 3:\n",
        "        frame_to_write = cv2.cvtColor(frame, cv2.COLOR_RGB2BGR)\n",
        "    else:\n",
        "        frame_to_write = frame\n",
        "    out.write(frame_to_write)\n",
        "\n",
        "out.release()\n",
        "\n",
        "print(f\"Video saved as {output_video_filename}\")\n",
        "\n",
        "files.download(output_video_filename)"
      ],
      "execution_count": null,
      "outputs": [
        {
          "output_type": "stream",
          "name": "stdout",
          "text": [
            "Original video properties: Width=478, Height=850, FPS=29\n",
            "Video saved as output_pose_video.mp4\n"
          ]
        },
        {
          "output_type": "display_data",
          "data": {
            "text/plain": [
              "<IPython.core.display.Javascript object>"
            ],
            "application/javascript": [
              "\n",
              "    async function download(id, filename, size) {\n",
              "      if (!google.colab.kernel.accessAllowed) {\n",
              "        return;\n",
              "      }\n",
              "      const div = document.createElement('div');\n",
              "      const label = document.createElement('label');\n",
              "      label.textContent = `Downloading \"${filename}\": `;\n",
              "      div.appendChild(label);\n",
              "      const progress = document.createElement('progress');\n",
              "      progress.max = size;\n",
              "      div.appendChild(progress);\n",
              "      document.body.appendChild(div);\n",
              "\n",
              "      const buffers = [];\n",
              "      let downloaded = 0;\n",
              "\n",
              "      const channel = await google.colab.kernel.comms.open(id);\n",
              "      // Send a message to notify the kernel that we're ready.\n",
              "      channel.send({})\n",
              "\n",
              "      for await (const message of channel.messages) {\n",
              "        // Send a message to notify the kernel that we're ready.\n",
              "        channel.send({})\n",
              "        if (message.buffers) {\n",
              "          for (const buffer of message.buffers) {\n",
              "            buffers.push(buffer);\n",
              "            downloaded += buffer.byteLength;\n",
              "            progress.value = downloaded;\n",
              "          }\n",
              "        }\n",
              "      }\n",
              "      const blob = new Blob(buffers, {type: 'application/binary'});\n",
              "      const a = document.createElement('a');\n",
              "      a.href = window.URL.createObjectURL(blob);\n",
              "      a.download = filename;\n",
              "      div.appendChild(a);\n",
              "      a.click();\n",
              "      div.remove();\n",
              "    }\n",
              "  "
            ]
          },
          "metadata": {}
        },
        {
          "output_type": "display_data",
          "data": {
            "text/plain": [
              "<IPython.core.display.Javascript object>"
            ],
            "application/javascript": [
              "download(\"download_67dfc0ad-e8ca-4c3b-beec-72b097460030\", \"output_pose_video.mp4\", 4159134)"
            ]
          },
          "metadata": {}
        }
      ]
    },
    {
      "cell_type": "code",
      "source": [
        "model_filename_pitch = \"rf_pitch_model.pkl\"\n",
        "model_filename_yaw = \"rf_yaw_model.pkl\"\n",
        "model_filename_roll = \"rf_roll_model.pkl\"\n",
        "\n",
        "with open(model_filename_pitch, 'wb') as f:\n",
        "    pickle.dump(rf_pitch, f)\n",
        "\n",
        "with open(model_filename_yaw, 'wb') as f:\n",
        "    pickle.dump(rf_yaw, f)\n",
        "\n",
        "with open(model_filename_roll, 'wb') as f:\n",
        "    pickle.dump(rf_roll, f)\n",
        "\n",
        "print(f\"Random Forest models saved as {model_filename_pitch}, {model_filename_yaw}, and {model_filename_roll}\")"
      ],
      "metadata": {
        "colab": {
          "base_uri": "https://localhost:8080/"
        },
        "id": "fjsLuLjcU-gZ",
        "outputId": "73777561-01f3-4572-f81c-adc811e8297a"
      },
      "execution_count": null,
      "outputs": [
        {
          "output_type": "stream",
          "name": "stdout",
          "text": [
            "Random Forest models saved as rf_pitch_model.pkl, rf_yaw_model.pkl, and rf_roll_model.pkl\n"
          ]
        }
      ]
    },
    {
      "cell_type": "code",
      "source": [
        "# Download the saved model files\n",
        "files.download(model_filename_pitch)\n",
        "files.download(model_filename_yaw)\n",
        "files.download(model_filename_roll)"
      ],
      "metadata": {
        "colab": {
          "base_uri": "https://localhost:8080/",
          "height": 17
        },
        "id": "NoYXMZsRVNpb",
        "outputId": "828918d2-ecce-4618-a91c-dfe87cc50fdd"
      },
      "execution_count": null,
      "outputs": [
        {
          "output_type": "display_data",
          "data": {
            "text/plain": [
              "<IPython.core.display.Javascript object>"
            ],
            "application/javascript": [
              "\n",
              "    async function download(id, filename, size) {\n",
              "      if (!google.colab.kernel.accessAllowed) {\n",
              "        return;\n",
              "      }\n",
              "      const div = document.createElement('div');\n",
              "      const label = document.createElement('label');\n",
              "      label.textContent = `Downloading \"${filename}\": `;\n",
              "      div.appendChild(label);\n",
              "      const progress = document.createElement('progress');\n",
              "      progress.max = size;\n",
              "      div.appendChild(progress);\n",
              "      document.body.appendChild(div);\n",
              "\n",
              "      const buffers = [];\n",
              "      let downloaded = 0;\n",
              "\n",
              "      const channel = await google.colab.kernel.comms.open(id);\n",
              "      // Send a message to notify the kernel that we're ready.\n",
              "      channel.send({})\n",
              "\n",
              "      for await (const message of channel.messages) {\n",
              "        // Send a message to notify the kernel that we're ready.\n",
              "        channel.send({})\n",
              "        if (message.buffers) {\n",
              "          for (const buffer of message.buffers) {\n",
              "            buffers.push(buffer);\n",
              "            downloaded += buffer.byteLength;\n",
              "            progress.value = downloaded;\n",
              "          }\n",
              "        }\n",
              "      }\n",
              "      const blob = new Blob(buffers, {type: 'application/binary'});\n",
              "      const a = document.createElement('a');\n",
              "      a.href = window.URL.createObjectURL(blob);\n",
              "      a.download = filename;\n",
              "      div.appendChild(a);\n",
              "      a.click();\n",
              "      div.remove();\n",
              "    }\n",
              "  "
            ]
          },
          "metadata": {}
        },
        {
          "output_type": "display_data",
          "data": {
            "text/plain": [
              "<IPython.core.display.Javascript object>"
            ],
            "application/javascript": [
              "download(\"download_123503e7-d081-401f-a2a6-dc0f53808c62\", \"rf_pitch_model.pkl\", 13497007)"
            ]
          },
          "metadata": {}
        },
        {
          "output_type": "display_data",
          "data": {
            "text/plain": [
              "<IPython.core.display.Javascript object>"
            ],
            "application/javascript": [
              "\n",
              "    async function download(id, filename, size) {\n",
              "      if (!google.colab.kernel.accessAllowed) {\n",
              "        return;\n",
              "      }\n",
              "      const div = document.createElement('div');\n",
              "      const label = document.createElement('label');\n",
              "      label.textContent = `Downloading \"${filename}\": `;\n",
              "      div.appendChild(label);\n",
              "      const progress = document.createElement('progress');\n",
              "      progress.max = size;\n",
              "      div.appendChild(progress);\n",
              "      document.body.appendChild(div);\n",
              "\n",
              "      const buffers = [];\n",
              "      let downloaded = 0;\n",
              "\n",
              "      const channel = await google.colab.kernel.comms.open(id);\n",
              "      // Send a message to notify the kernel that we're ready.\n",
              "      channel.send({})\n",
              "\n",
              "      for await (const message of channel.messages) {\n",
              "        // Send a message to notify the kernel that we're ready.\n",
              "        channel.send({})\n",
              "        if (message.buffers) {\n",
              "          for (const buffer of message.buffers) {\n",
              "            buffers.push(buffer);\n",
              "            downloaded += buffer.byteLength;\n",
              "            progress.value = downloaded;\n",
              "          }\n",
              "        }\n",
              "      }\n",
              "      const blob = new Blob(buffers, {type: 'application/binary'});\n",
              "      const a = document.createElement('a');\n",
              "      a.href = window.URL.createObjectURL(blob);\n",
              "      a.download = filename;\n",
              "      div.appendChild(a);\n",
              "      a.click();\n",
              "      div.remove();\n",
              "    }\n",
              "  "
            ]
          },
          "metadata": {}
        },
        {
          "output_type": "display_data",
          "data": {
            "text/plain": [
              "<IPython.core.display.Javascript object>"
            ],
            "application/javascript": [
              "download(\"download_502df25c-7bd0-4735-b06d-13c01b4ee46f\", \"rf_yaw_model.pkl\", 13497007)"
            ]
          },
          "metadata": {}
        },
        {
          "output_type": "display_data",
          "data": {
            "text/plain": [
              "<IPython.core.display.Javascript object>"
            ],
            "application/javascript": [
              "\n",
              "    async function download(id, filename, size) {\n",
              "      if (!google.colab.kernel.accessAllowed) {\n",
              "        return;\n",
              "      }\n",
              "      const div = document.createElement('div');\n",
              "      const label = document.createElement('label');\n",
              "      label.textContent = `Downloading \"${filename}\": `;\n",
              "      div.appendChild(label);\n",
              "      const progress = document.createElement('progress');\n",
              "      progress.max = size;\n",
              "      div.appendChild(progress);\n",
              "      document.body.appendChild(div);\n",
              "\n",
              "      const buffers = [];\n",
              "      let downloaded = 0;\n",
              "\n",
              "      const channel = await google.colab.kernel.comms.open(id);\n",
              "      // Send a message to notify the kernel that we're ready.\n",
              "      channel.send({})\n",
              "\n",
              "      for await (const message of channel.messages) {\n",
              "        // Send a message to notify the kernel that we're ready.\n",
              "        channel.send({})\n",
              "        if (message.buffers) {\n",
              "          for (const buffer of message.buffers) {\n",
              "            buffers.push(buffer);\n",
              "            downloaded += buffer.byteLength;\n",
              "            progress.value = downloaded;\n",
              "          }\n",
              "        }\n",
              "      }\n",
              "      const blob = new Blob(buffers, {type: 'application/binary'});\n",
              "      const a = document.createElement('a');\n",
              "      a.href = window.URL.createObjectURL(blob);\n",
              "      a.download = filename;\n",
              "      div.appendChild(a);\n",
              "      a.click();\n",
              "      div.remove();\n",
              "    }\n",
              "  "
            ]
          },
          "metadata": {}
        },
        {
          "output_type": "display_data",
          "data": {
            "text/plain": [
              "<IPython.core.display.Javascript object>"
            ],
            "application/javascript": [
              "download(\"download_88e5cc64-b22c-4c93-91a5-16b6ad6debce\", \"rf_roll_model.pkl\", 13497007)"
            ]
          },
          "metadata": {}
        }
      ]
    }
  ]
}